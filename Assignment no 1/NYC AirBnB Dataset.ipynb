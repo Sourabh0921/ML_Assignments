{
 "cells": [
  {
   "cell_type": "code",
   "execution_count": 1,
   "id": "06ae1228",
   "metadata": {},
   "outputs": [],
   "source": [
    "import numpy as np\n",
    "import pandas as pd\n",
    "import matplotlib.pyplot as plt\n",
    "%matplotlib inline\n",
    "\n",
    "import seaborn as sns"
   ]
  },
  {
   "cell_type": "code",
   "execution_count": 2,
   "id": "a4990118",
   "metadata": {},
   "outputs": [],
   "source": [
    "# Q1 Load the data and Display structure,summary report"
   ]
  },
  {
   "cell_type": "code",
   "execution_count": 3,
   "id": "ed5b6ba4",
   "metadata": {},
   "outputs": [
    {
     "data": {
      "text/html": [
       "<div>\n",
       "<style scoped>\n",
       "    .dataframe tbody tr th:only-of-type {\n",
       "        vertical-align: middle;\n",
       "    }\n",
       "\n",
       "    .dataframe tbody tr th {\n",
       "        vertical-align: top;\n",
       "    }\n",
       "\n",
       "    .dataframe thead th {\n",
       "        text-align: right;\n",
       "    }\n",
       "</style>\n",
       "<table border=\"1\" class=\"dataframe\">\n",
       "  <thead>\n",
       "    <tr style=\"text-align: right;\">\n",
       "      <th></th>\n",
       "      <th>id</th>\n",
       "      <th>name</th>\n",
       "      <th>host_id</th>\n",
       "      <th>host_name</th>\n",
       "      <th>neighbourhood_group</th>\n",
       "      <th>neighbourhood</th>\n",
       "      <th>latitude</th>\n",
       "      <th>longitude</th>\n",
       "      <th>room_type</th>\n",
       "      <th>price</th>\n",
       "      <th>minimum_nights</th>\n",
       "      <th>number_of_reviews</th>\n",
       "      <th>last_review</th>\n",
       "      <th>reviews_per_month</th>\n",
       "      <th>calculated_host_listings_count</th>\n",
       "      <th>availability_365</th>\n",
       "    </tr>\n",
       "  </thead>\n",
       "  <tbody>\n",
       "    <tr>\n",
       "      <th>0</th>\n",
       "      <td>2539</td>\n",
       "      <td>Clean &amp; quiet apt home by the park</td>\n",
       "      <td>2787</td>\n",
       "      <td>John</td>\n",
       "      <td>Brooklyn</td>\n",
       "      <td>Kensington</td>\n",
       "      <td>40.64749</td>\n",
       "      <td>-73.97237</td>\n",
       "      <td>Private room</td>\n",
       "      <td>149</td>\n",
       "      <td>1</td>\n",
       "      <td>9</td>\n",
       "      <td>2018-10-19</td>\n",
       "      <td>0.21</td>\n",
       "      <td>6</td>\n",
       "      <td>365</td>\n",
       "    </tr>\n",
       "    <tr>\n",
       "      <th>1</th>\n",
       "      <td>2595</td>\n",
       "      <td>Skylit Midtown Castle</td>\n",
       "      <td>2845</td>\n",
       "      <td>Jennifer</td>\n",
       "      <td>Manhattan</td>\n",
       "      <td>Midtown</td>\n",
       "      <td>40.75362</td>\n",
       "      <td>-73.98377</td>\n",
       "      <td>Entire home/apt</td>\n",
       "      <td>225</td>\n",
       "      <td>1</td>\n",
       "      <td>45</td>\n",
       "      <td>2019-05-21</td>\n",
       "      <td>0.38</td>\n",
       "      <td>2</td>\n",
       "      <td>355</td>\n",
       "    </tr>\n",
       "    <tr>\n",
       "      <th>2</th>\n",
       "      <td>3647</td>\n",
       "      <td>THE VILLAGE OF HARLEM....NEW YORK !</td>\n",
       "      <td>4632</td>\n",
       "      <td>Elisabeth</td>\n",
       "      <td>Manhattan</td>\n",
       "      <td>Harlem</td>\n",
       "      <td>40.80902</td>\n",
       "      <td>-73.94190</td>\n",
       "      <td>Private room</td>\n",
       "      <td>150</td>\n",
       "      <td>3</td>\n",
       "      <td>0</td>\n",
       "      <td>NaN</td>\n",
       "      <td>NaN</td>\n",
       "      <td>1</td>\n",
       "      <td>365</td>\n",
       "    </tr>\n",
       "    <tr>\n",
       "      <th>3</th>\n",
       "      <td>3831</td>\n",
       "      <td>Cozy Entire Floor of Brownstone</td>\n",
       "      <td>4869</td>\n",
       "      <td>LisaRoxanne</td>\n",
       "      <td>Brooklyn</td>\n",
       "      <td>Clinton Hill</td>\n",
       "      <td>40.68514</td>\n",
       "      <td>-73.95976</td>\n",
       "      <td>Entire home/apt</td>\n",
       "      <td>89</td>\n",
       "      <td>1</td>\n",
       "      <td>270</td>\n",
       "      <td>2019-07-05</td>\n",
       "      <td>4.64</td>\n",
       "      <td>1</td>\n",
       "      <td>194</td>\n",
       "    </tr>\n",
       "    <tr>\n",
       "      <th>4</th>\n",
       "      <td>5022</td>\n",
       "      <td>Entire Apt: Spacious Studio/Loft by central park</td>\n",
       "      <td>7192</td>\n",
       "      <td>Laura</td>\n",
       "      <td>Manhattan</td>\n",
       "      <td>East Harlem</td>\n",
       "      <td>40.79851</td>\n",
       "      <td>-73.94399</td>\n",
       "      <td>Entire home/apt</td>\n",
       "      <td>80</td>\n",
       "      <td>10</td>\n",
       "      <td>9</td>\n",
       "      <td>2018-11-19</td>\n",
       "      <td>0.10</td>\n",
       "      <td>1</td>\n",
       "      <td>0</td>\n",
       "    </tr>\n",
       "  </tbody>\n",
       "</table>\n",
       "</div>"
      ],
      "text/plain": [
       "     id                                              name  host_id  \\\n",
       "0  2539                Clean & quiet apt home by the park     2787   \n",
       "1  2595                             Skylit Midtown Castle     2845   \n",
       "2  3647               THE VILLAGE OF HARLEM....NEW YORK !     4632   \n",
       "3  3831                   Cozy Entire Floor of Brownstone     4869   \n",
       "4  5022  Entire Apt: Spacious Studio/Loft by central park     7192   \n",
       "\n",
       "     host_name neighbourhood_group neighbourhood  latitude  longitude  \\\n",
       "0         John            Brooklyn    Kensington  40.64749  -73.97237   \n",
       "1     Jennifer           Manhattan       Midtown  40.75362  -73.98377   \n",
       "2    Elisabeth           Manhattan        Harlem  40.80902  -73.94190   \n",
       "3  LisaRoxanne            Brooklyn  Clinton Hill  40.68514  -73.95976   \n",
       "4        Laura           Manhattan   East Harlem  40.79851  -73.94399   \n",
       "\n",
       "         room_type  price  minimum_nights  number_of_reviews last_review  \\\n",
       "0     Private room    149               1                  9  2018-10-19   \n",
       "1  Entire home/apt    225               1                 45  2019-05-21   \n",
       "2     Private room    150               3                  0         NaN   \n",
       "3  Entire home/apt     89               1                270  2019-07-05   \n",
       "4  Entire home/apt     80              10                  9  2018-11-19   \n",
       "\n",
       "   reviews_per_month  calculated_host_listings_count  availability_365  \n",
       "0               0.21                               6               365  \n",
       "1               0.38                               2               355  \n",
       "2                NaN                               1               365  \n",
       "3               4.64                               1               194  \n",
       "4               0.10                               1                 0  "
      ]
     },
     "execution_count": 3,
     "metadata": {},
     "output_type": "execute_result"
    }
   ],
   "source": [
    "data=pd.read_csv(\"AB_NYC_2019.csv\")\n",
    "data.head()"
   ]
  },
  {
   "cell_type": "code",
   "execution_count": null,
   "id": "5024a400",
   "metadata": {},
   "outputs": [],
   "source": [
    "# Q2 Check data types of each column and ensure whether the data types for each of the \tattributes are appropriate, if not make appropriate corrections. "
   ]
  },
  {
   "cell_type": "code",
   "execution_count": null,
   "id": "c3f584b8",
   "metadata": {},
   "outputs": [],
   "source": [
    "# Q3 Display NULL values for each of the columns"
   ]
  },
  {
   "cell_type": "code",
   "execution_count": 6,
   "id": "5fe034f3",
   "metadata": {},
   "outputs": [
    {
     "name": "stdout",
     "output_type": "stream",
     "text": [
      "SHAPE OF THE DATA: \n",
      "(48895, 16)\n",
      "------------------------------------------------------------------------------------------\n",
      "INFORMATION OF THE DATA: \n",
      "<class 'pandas.core.frame.DataFrame'>\n",
      "RangeIndex: 48895 entries, 0 to 48894\n",
      "Data columns (total 16 columns):\n",
      " #   Column                          Non-Null Count  Dtype  \n",
      "---  ------                          --------------  -----  \n",
      " 0   id                              48895 non-null  int64  \n",
      " 1   name                            48879 non-null  object \n",
      " 2   host_id                         48895 non-null  int64  \n",
      " 3   host_name                       48874 non-null  object \n",
      " 4   neighbourhood_group             48895 non-null  object \n",
      " 5   neighbourhood                   48895 non-null  object \n",
      " 6   latitude                        48895 non-null  float64\n",
      " 7   longitude                       48895 non-null  float64\n",
      " 8   room_type                       48895 non-null  object \n",
      " 9   price                           48895 non-null  int64  \n",
      " 10  minimum_nights                  48895 non-null  int64  \n",
      " 11  number_of_reviews               48895 non-null  int64  \n",
      " 12  last_review                     38843 non-null  object \n",
      " 13  reviews_per_month               38843 non-null  float64\n",
      " 14  calculated_host_listings_count  48895 non-null  int64  \n",
      " 15  availability_365                48895 non-null  int64  \n",
      "dtypes: float64(3), int64(7), object(6)\n",
      "memory usage: 6.0+ MB\n",
      "None\n",
      "------------------------------------------------------------------------------------------\n",
      "DATATYPES OF COLUMNS: \n",
      "id                                  int64\n",
      "name                               object\n",
      "host_id                             int64\n",
      "host_name                          object\n",
      "neighbourhood_group                object\n",
      "neighbourhood                      object\n",
      "latitude                          float64\n",
      "longitude                         float64\n",
      "room_type                          object\n",
      "price                               int64\n",
      "minimum_nights                      int64\n",
      "number_of_reviews                   int64\n",
      "last_review                        object\n",
      "reviews_per_month                 float64\n",
      "calculated_host_listings_count      int64\n",
      "availability_365                    int64\n",
      "dtype: object\n",
      "------------------------------------------------------------------------------------------\n",
      "DESCRIPTION OF THE DATA\n",
      "                 id       host_id      latitude     longitude         price  \\\n",
      "count  4.889500e+04  4.889500e+04  48895.000000  48895.000000  48895.000000   \n",
      "mean   1.901714e+07  6.762001e+07     40.728949    -73.952170    152.720687   \n",
      "std    1.098311e+07  7.861097e+07      0.054530      0.046157    240.154170   \n",
      "min    2.539000e+03  2.438000e+03     40.499790    -74.244420      0.000000   \n",
      "25%    9.471945e+06  7.822033e+06     40.690100    -73.983070     69.000000   \n",
      "50%    1.967728e+07  3.079382e+07     40.723070    -73.955680    106.000000   \n",
      "75%    2.915218e+07  1.074344e+08     40.763115    -73.936275    175.000000   \n",
      "max    3.648724e+07  2.743213e+08     40.913060    -73.712990  10000.000000   \n",
      "\n",
      "       minimum_nights  number_of_reviews  reviews_per_month  \\\n",
      "count    48895.000000       48895.000000       38843.000000   \n",
      "mean         7.029962          23.274466           1.373221   \n",
      "std         20.510550          44.550582           1.680442   \n",
      "min          1.000000           0.000000           0.010000   \n",
      "25%          1.000000           1.000000           0.190000   \n",
      "50%          3.000000           5.000000           0.720000   \n",
      "75%          5.000000          24.000000           2.020000   \n",
      "max       1250.000000         629.000000          58.500000   \n",
      "\n",
      "       calculated_host_listings_count  availability_365  \n",
      "count                    48895.000000      48895.000000  \n",
      "mean                         7.143982        112.781327  \n",
      "std                         32.952519        131.622289  \n",
      "min                          1.000000          0.000000  \n",
      "25%                          1.000000          0.000000  \n",
      "50%                          1.000000         45.000000  \n",
      "75%                          2.000000        227.000000  \n",
      "max                        327.000000        365.000000  \n",
      "------------------------------------------------------------------------------------------\n",
      "NUMBER OF NULL VALUES PRESENT IN THE DATA: \n",
      "id                                    0\n",
      "name                                 16\n",
      "host_id                               0\n",
      "host_name                            21\n",
      "neighbourhood_group                   0\n",
      "neighbourhood                         0\n",
      "latitude                              0\n",
      "longitude                             0\n",
      "room_type                             0\n",
      "price                                 0\n",
      "minimum_nights                        0\n",
      "number_of_reviews                     0\n",
      "last_review                       10052\n",
      "reviews_per_month                 10052\n",
      "calculated_host_listings_count        0\n",
      "availability_365                      0\n",
      "dtype: int64\n",
      "------------------------------------------------------------------------------------------\n",
      "COLUMN NAMES OF THE DATA: \n",
      "Index(['id', 'name', 'host_id', 'host_name', 'neighbourhood_group',\n",
      "       'neighbourhood', 'latitude', 'longitude', 'room_type', 'price',\n",
      "       'minimum_nights', 'number_of_reviews', 'last_review',\n",
      "       'reviews_per_month', 'calculated_host_listings_count',\n",
      "       'availability_365'],\n",
      "      dtype='object')\n",
      "------------------------------------------------------------------------------------------\n"
     ]
    }
   ],
   "source": [
    "# creating a function which will give us features from the dataset\n",
    "def data_feature(dataset):\n",
    "    print(\"SHAPE OF THE DATA: \")\n",
    "    print(dataset.shape)\n",
    "    print(\"-\"*90)\n",
    "    print(\"INFORMATION OF THE DATA: \")\n",
    "    print(dataset.info())\n",
    "    print(\"-\"*90)\n",
    "    print(\"DATATYPES OF COLUMNS: \")\n",
    "    print(dataset.dtypes)\n",
    "    print(\"-\"*90)\n",
    "    print(\"DESCRIPTION OF THE DATA\")\n",
    "    print(dataset.describe())\n",
    "    print(\"-\"*90)\n",
    "    print(\"NUMBER OF NULL VALUES PRESENT IN THE DATA: \")\n",
    "    print(dataset.isnull().sum())\n",
    "    print(\"-\"*90)\n",
    "    print(\"COLUMN NAMES OF THE DATA: \")\n",
    "    print(dataset.columns)\n",
    "    print(\"-\"*90)\n",
    "    \n",
    "data_feature(data)"
   ]
  },
  {
   "cell_type": "code",
   "execution_count": 7,
   "id": "e0c0be12",
   "metadata": {},
   "outputs": [],
   "source": [
    "# Q 4 Find out missing values and replace them for the applicable columns. "
   ]
  },
  {
   "cell_type": "code",
   "execution_count": 8,
   "id": "141ebe93",
   "metadata": {},
   "outputs": [
    {
     "data": {
      "text/plain": [
       "16"
      ]
     },
     "execution_count": 8,
     "metadata": {},
     "output_type": "execute_result"
    }
   ],
   "source": [
    "# before missing values\n",
    "data['name'].isnull().sum()"
   ]
  },
  {
   "cell_type": "code",
   "execution_count": 9,
   "id": "4515226f",
   "metadata": {},
   "outputs": [],
   "source": [
    "# imputinig the missing values using the mode of name features\n",
    "data['name'].fillna(value=data['name'].mode()[0],inplace=True)"
   ]
  },
  {
   "cell_type": "code",
   "execution_count": 10,
   "id": "dd90f254",
   "metadata": {},
   "outputs": [
    {
     "data": {
      "text/plain": [
       "0"
      ]
     },
     "execution_count": 10,
     "metadata": {},
     "output_type": "execute_result"
    }
   ],
   "source": [
    "# after imputation\n",
    "data['name'].isnull().sum()"
   ]
  },
  {
   "cell_type": "code",
   "execution_count": 11,
   "id": "1bba0b64",
   "metadata": {},
   "outputs": [],
   "source": [
    "data['neighbourhood_group'].fillna(value=data['neighbourhood_group'].mode()[0],inplace=True)"
   ]
  },
  {
   "cell_type": "code",
   "execution_count": 12,
   "id": "c0d79a9c",
   "metadata": {},
   "outputs": [
    {
     "data": {
      "text/plain": [
       "0"
      ]
     },
     "execution_count": 12,
     "metadata": {},
     "output_type": "execute_result"
    }
   ],
   "source": [
    "# after imputation\n",
    "data['neighbourhood_group'].isnull().sum()"
   ]
  },
  {
   "cell_type": "code",
   "execution_count": 13,
   "id": "5d82f655",
   "metadata": {},
   "outputs": [],
   "source": [
    "data['last_review'].fillna(value=data['last_review'].mode()[0],inplace=True)"
   ]
  },
  {
   "cell_type": "code",
   "execution_count": 14,
   "id": "1f52bf53",
   "metadata": {},
   "outputs": [
    {
     "data": {
      "text/plain": [
       "0"
      ]
     },
     "execution_count": 14,
     "metadata": {},
     "output_type": "execute_result"
    }
   ],
   "source": [
    "# after imputation\n",
    "data['last_review'].isnull().sum()"
   ]
  },
  {
   "cell_type": "code",
   "execution_count": 17,
   "id": "9e5c0d51",
   "metadata": {},
   "outputs": [
    {
     "data": {
      "text/plain": [
       "10052"
      ]
     },
     "execution_count": 17,
     "metadata": {},
     "output_type": "execute_result"
    }
   ],
   "source": [
    "# converting decimal values into int\n",
    "#data.reviews_per_month=pd.to_numeric(data.reviews_per_month, errors='coerce')\n",
    "#data.reviews_per_month.isnull().sum()"
   ]
  },
  {
   "cell_type": "code",
   "execution_count": 21,
   "id": "bfbba60c",
   "metadata": {},
   "outputs": [],
   "source": [
    "data['reviews_per_month'].fillna(value=data['reviews_per_month'].median(),inplace=True)"
   ]
  },
  {
   "cell_type": "code",
   "execution_count": 22,
   "id": "514c6a18",
   "metadata": {},
   "outputs": [
    {
     "data": {
      "text/plain": [
       "0"
      ]
     },
     "execution_count": 22,
     "metadata": {},
     "output_type": "execute_result"
    }
   ],
   "source": [
    "data['reviews_per_month'].isnull().sum()"
   ]
  },
  {
   "cell_type": "code",
   "execution_count": 23,
   "id": "197ae263",
   "metadata": {},
   "outputs": [],
   "source": [
    "# Q5 Check which hosts (IDs) have the most listings on Airbnb platform and taking advantage of \tthis service. Display in ascending order."
   ]
  },
  {
   "cell_type": "code",
   "execution_count": null,
   "id": "abcd09df",
   "metadata": {},
   "outputs": [],
   "source": []
  },
  {
   "cell_type": "code",
   "execution_count": 24,
   "id": "df242e16",
   "metadata": {},
   "outputs": [],
   "source": [
    "# Q6 Plot a bar graph for Host_ID vs Count of Listings."
   ]
  },
  {
   "cell_type": "code",
   "execution_count": 27,
   "id": "8dd2c9ca",
   "metadata": {},
   "outputs": [
    {
     "data": {
      "image/png": "[encoded data removed]",
      "text/plain": [
       "<Figure size 432x288 with 1 Axes>"
      ]
     },
     "metadata": {
      "needs_background": "light"
     },
     "output_type": "display_data"
    }
   ],
   "source": [
    "sns.barplot(x=\"calculated_host_listings_count\",y=\"host_id\",data=data)\n",
    "plt.show()"
   ]
  },
  {
   "cell_type": "code",
   "execution_count": 25,
   "id": "e6c877f1",
   "metadata": {},
   "outputs": [],
   "source": [
    "# Based on Room_Type, prepare a bar graph for neighbourhood vs Count of Listings "
   ]
  },
  {
   "cell_type": "code",
   "execution_count": 29,
   "id": "53c2026b",
   "metadata": {},
   "outputs": [
    {
     "data": {
      "text/plain": [
       "<AxesSubplot:xlabel='calculated_host_listings_count', ylabel='neighbourhood'>"
      ]
     },
     "execution_count": 29,
     "metadata": {},
     "output_type": "execute_result"
    },
    {
     "data": {
      "image/png": "[encoded data removed]",
      "text/plain": [
       "<Figure size 432x288 with 1 Axes>"
      ]
     },
     "metadata": {
      "needs_background": "light"
     },
     "output_type": "display_data"
    }
   ],
   "source": [
    "sns.barplot(x=\"calculated_host_listings_count\",y=\"neighbourhood\",data=data,hue=\"room_type\")"
   ]
  },
  {
   "cell_type": "code",
   "execution_count": 31,
   "id": "ae187802",
   "metadata": {},
   "outputs": [
    {
     "data": {
      "text/plain": [
       "<AxesSubplot:xlabel='neighbourhood', ylabel='calculated_host_listings_count'>"
      ]
     },
     "execution_count": 31,
     "metadata": {},
     "output_type": "execute_result"
    },
    {
     "data": {
      "image/png": "[encoded data removed]",
      "text/plain": [
       "<Figure size 432x288 with 1 Axes>"
      ]
     },
     "metadata": {
      "needs_background": "light"
     },
     "output_type": "display_data"
    }
   ],
   "source": [
    "sns.barplot(x=\"neighbourhood\",y=\"calculated_host_listings_count\",data=data,hue=\"room_type\")"
   ]
  },
  {
   "cell_type": "code",
   "execution_count": null,
   "id": "2f86bffd",
   "metadata": {},
   "outputs": [],
   "source": []
  }
 ],
 "metadata": {
  "kernelspec": {
   "display_name": "Python 3 (ipykernel)",
   "language": "python",
   "name": "python3"
  },
  "language_info": {
   "codemirror_mode": {
    "name": "ipython",
    "version": 3
   },
   "file_extension": ".py",
   "mimetype": "text/x-python",
   "name": "python",
   "nbconvert_exporter": "python",
   "pygments_lexer": "ipython3",
   "version": "3.9.12"
  }
 },
 "nbformat": 4,
 "nbformat_minor": 5
}
