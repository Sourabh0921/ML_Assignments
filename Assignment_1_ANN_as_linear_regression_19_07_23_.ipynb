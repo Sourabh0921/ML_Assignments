{
 "cells": [
  {
   "cell_type": "markdown",
   "id": "7713af1e",
   "metadata": {
    "id": "7713af1e"
   },
   "source": [
    "# Libraries"
   ]
  },
  {
   "cell_type": "code",
   "execution_count": 1,
   "id": "a0d2d008",
   "metadata": {
    "id": "a0d2d008"
   },
   "outputs": [],
   "source": [
    "import numpy as np\n",
    "import pandas as pd\n",
    "import matplotlib.pyplot as plt\n",
    "import tensorflow as tf\n",
    "from sklearn.preprocessing import MinMaxScaler\n",
    "from sklearn.preprocessing import LabelEncoder\n",
    "from sklearn.model_selection import train_test_split\n",
    "from tensorflow.python.keras.models import Sequential\n",
    "from tensorflow.python.keras.layers import Dense\n",
    "from sklearn.metrics import mean_squared_error , r2_score\n",
    "import google\n",
    "from sklearn.ensemble import RandomForestRegressor\n"
   ]
  },
  {
   "cell_type": "markdown",
   "id": "cd4fe23b",
   "metadata": {},
   "source": [
    "# Set up GPU memory growth (must be done before creating the model or a TensorFlow session)\n"
   ]
  },
  {
   "cell_type": "code",
   "execution_count": 2,
   "id": "d0c6ab60",
   "metadata": {},
   "outputs": [],
   "source": [
    "gpus = tf.config.list_physical_devices('GPU')\n",
    "if gpus:\n",
    "    try:\n",
    "        for gpu in gpus:\n",
    "            tf.config.experimental.set_memory_growth(gpu, True)\n",
    "    except RuntimeError as e:\n",
    "        print(e)"
   ]
  },
  {
   "cell_type": "code",
   "execution_count": 3,
   "id": "3e25d778",
   "metadata": {
    "id": "3e25d778"
   },
   "outputs": [],
   "source": [
    "# tensor is multi-dimensional array"
   ]
  },
  {
   "cell_type": "code",
   "execution_count": 4,
   "id": "08ec897e",
   "metadata": {
    "colab": {
     "base_uri": "https://localhost:8080/",
     "height": 381
    },
    "id": "08ec897e",
    "outputId": "0e1e6b7c-03b1-401b-a989-70678e909db8"
   },
   "outputs": [
    {
     "data": {
      "text/html": [
       "<div>\n",
       "<style scoped>\n",
       "    .dataframe tbody tr th:only-of-type {\n",
       "        vertical-align: middle;\n",
       "    }\n",
       "\n",
       "    .dataframe tbody tr th {\n",
       "        vertical-align: top;\n",
       "    }\n",
       "\n",
       "    .dataframe thead th {\n",
       "        text-align: right;\n",
       "    }\n",
       "</style>\n",
       "<table border=\"1\" class=\"dataframe\">\n",
       "  <thead>\n",
       "    <tr style=\"text-align: right;\">\n",
       "      <th></th>\n",
       "      <th>Unnamed: 0</th>\n",
       "      <th>Area</th>\n",
       "      <th>Item</th>\n",
       "      <th>Year</th>\n",
       "      <th>hg/ha_yield</th>\n",
       "      <th>average_rain_fall_mm_per_year</th>\n",
       "      <th>pesticides_tonnes</th>\n",
       "      <th>avg_temp</th>\n",
       "    </tr>\n",
       "  </thead>\n",
       "  <tbody>\n",
       "    <tr>\n",
       "      <th>0</th>\n",
       "      <td>0</td>\n",
       "      <td>Albania</td>\n",
       "      <td>Maize</td>\n",
       "      <td>1990</td>\n",
       "      <td>36613</td>\n",
       "      <td>1485.0</td>\n",
       "      <td>121.0</td>\n",
       "      <td>16.37</td>\n",
       "    </tr>\n",
       "    <tr>\n",
       "      <th>1</th>\n",
       "      <td>1</td>\n",
       "      <td>Albania</td>\n",
       "      <td>Potatoes</td>\n",
       "      <td>1990</td>\n",
       "      <td>66667</td>\n",
       "      <td>1485.0</td>\n",
       "      <td>121.0</td>\n",
       "      <td>16.37</td>\n",
       "    </tr>\n",
       "    <tr>\n",
       "      <th>2</th>\n",
       "      <td>2</td>\n",
       "      <td>Albania</td>\n",
       "      <td>Rice, paddy</td>\n",
       "      <td>1990</td>\n",
       "      <td>23333</td>\n",
       "      <td>1485.0</td>\n",
       "      <td>121.0</td>\n",
       "      <td>16.37</td>\n",
       "    </tr>\n",
       "    <tr>\n",
       "      <th>3</th>\n",
       "      <td>3</td>\n",
       "      <td>Albania</td>\n",
       "      <td>Sorghum</td>\n",
       "      <td>1990</td>\n",
       "      <td>12500</td>\n",
       "      <td>1485.0</td>\n",
       "      <td>121.0</td>\n",
       "      <td>16.37</td>\n",
       "    </tr>\n",
       "    <tr>\n",
       "      <th>4</th>\n",
       "      <td>4</td>\n",
       "      <td>Albania</td>\n",
       "      <td>Soybeans</td>\n",
       "      <td>1990</td>\n",
       "      <td>7000</td>\n",
       "      <td>1485.0</td>\n",
       "      <td>121.0</td>\n",
       "      <td>16.37</td>\n",
       "    </tr>\n",
       "    <tr>\n",
       "      <th>5</th>\n",
       "      <td>5</td>\n",
       "      <td>Albania</td>\n",
       "      <td>Wheat</td>\n",
       "      <td>1990</td>\n",
       "      <td>30197</td>\n",
       "      <td>1485.0</td>\n",
       "      <td>121.0</td>\n",
       "      <td>16.37</td>\n",
       "    </tr>\n",
       "    <tr>\n",
       "      <th>6</th>\n",
       "      <td>6</td>\n",
       "      <td>Albania</td>\n",
       "      <td>Maize</td>\n",
       "      <td>1991</td>\n",
       "      <td>29068</td>\n",
       "      <td>1485.0</td>\n",
       "      <td>121.0</td>\n",
       "      <td>15.36</td>\n",
       "    </tr>\n",
       "    <tr>\n",
       "      <th>7</th>\n",
       "      <td>7</td>\n",
       "      <td>Albania</td>\n",
       "      <td>Potatoes</td>\n",
       "      <td>1991</td>\n",
       "      <td>77818</td>\n",
       "      <td>1485.0</td>\n",
       "      <td>121.0</td>\n",
       "      <td>15.36</td>\n",
       "    </tr>\n",
       "    <tr>\n",
       "      <th>8</th>\n",
       "      <td>8</td>\n",
       "      <td>Albania</td>\n",
       "      <td>Rice, paddy</td>\n",
       "      <td>1991</td>\n",
       "      <td>28538</td>\n",
       "      <td>1485.0</td>\n",
       "      <td>121.0</td>\n",
       "      <td>15.36</td>\n",
       "    </tr>\n",
       "    <tr>\n",
       "      <th>9</th>\n",
       "      <td>9</td>\n",
       "      <td>Albania</td>\n",
       "      <td>Sorghum</td>\n",
       "      <td>1991</td>\n",
       "      <td>6667</td>\n",
       "      <td>1485.0</td>\n",
       "      <td>121.0</td>\n",
       "      <td>15.36</td>\n",
       "    </tr>\n",
       "  </tbody>\n",
       "</table>\n",
       "</div>"
      ],
      "text/plain": [
       "   Unnamed: 0     Area         Item  Year  hg/ha_yield  \\\n",
       "0           0  Albania        Maize  1990        36613   \n",
       "1           1  Albania     Potatoes  1990        66667   \n",
       "2           2  Albania  Rice, paddy  1990        23333   \n",
       "3           3  Albania      Sorghum  1990        12500   \n",
       "4           4  Albania     Soybeans  1990         7000   \n",
       "5           5  Albania        Wheat  1990        30197   \n",
       "6           6  Albania        Maize  1991        29068   \n",
       "7           7  Albania     Potatoes  1991        77818   \n",
       "8           8  Albania  Rice, paddy  1991        28538   \n",
       "9           9  Albania      Sorghum  1991         6667   \n",
       "\n",
       "   average_rain_fall_mm_per_year  pesticides_tonnes  avg_temp  \n",
       "0                         1485.0              121.0     16.37  \n",
       "1                         1485.0              121.0     16.37  \n",
       "2                         1485.0              121.0     16.37  \n",
       "3                         1485.0              121.0     16.37  \n",
       "4                         1485.0              121.0     16.37  \n",
       "5                         1485.0              121.0     16.37  \n",
       "6                         1485.0              121.0     15.36  \n",
       "7                         1485.0              121.0     15.36  \n",
       "8                         1485.0              121.0     15.36  \n",
       "9                         1485.0              121.0     15.36  "
      ]
     },
     "execution_count": 4,
     "metadata": {},
     "output_type": "execute_result"
    }
   ],
   "source": [
    "# from google.colab import drive\n",
    "# drive.mount('/content/drive')\n",
    "df = pd.read_csv(r\"C:\\Users\\yield_df.csv\")\n",
    "# df = pd.read_csv(r'/content/drive/MyDrive/DATASETS/yield_df.csv')\n",
    "df.head(10)"
   ]
  },
  {
   "cell_type": "code",
   "execution_count": 5,
   "id": "562abfb9",
   "metadata": {
    "colab": {
     "base_uri": "https://localhost:8080/"
    },
    "id": "562abfb9",
    "outputId": "bd122a61-32d3-4a05-c438-d5825aa64b62"
   },
   "outputs": [
    {
     "name": "stdout",
     "output_type": "stream",
     "text": [
      "<class 'pandas.core.frame.DataFrame'>\n",
      "RangeIndex: 28242 entries, 0 to 28241\n",
      "Data columns (total 8 columns):\n",
      " #   Column                         Non-Null Count  Dtype  \n",
      "---  ------                         --------------  -----  \n",
      " 0   Unnamed: 0                     28242 non-null  int64  \n",
      " 1   Area                           28242 non-null  object \n",
      " 2   Item                           28242 non-null  object \n",
      " 3   Year                           28242 non-null  int64  \n",
      " 4   hg/ha_yield                    28242 non-null  int64  \n",
      " 5   average_rain_fall_mm_per_year  28242 non-null  float64\n",
      " 6   pesticides_tonnes              28242 non-null  float64\n",
      " 7   avg_temp                       28242 non-null  float64\n",
      "dtypes: float64(3), int64(3), object(2)\n",
      "memory usage: 1.7+ MB\n"
     ]
    }
   ],
   "source": [
    "df.info()"
   ]
  },
  {
   "cell_type": "code",
   "execution_count": 6,
   "id": "85677e20",
   "metadata": {
    "colab": {
     "base_uri": "https://localhost:8080/"
    },
    "id": "85677e20",
    "outputId": "1d9d2655-432b-4af6-e878-8fb5d2cd886f"
   },
   "outputs": [
    {
     "data": {
      "text/plain": [
       "Unnamed: 0                       0\n",
       "Area                             0\n",
       "Item                             0\n",
       "Year                             0\n",
       "hg/ha_yield                      0\n",
       "average_rain_fall_mm_per_year    0\n",
       "pesticides_tonnes                0\n",
       "avg_temp                         0\n",
       "dtype: int64"
      ]
     },
     "execution_count": 6,
     "metadata": {},
     "output_type": "execute_result"
    }
   ],
   "source": [
    "df.isnull().sum()"
   ]
  },
  {
   "cell_type": "code",
   "execution_count": 7,
   "id": "1560b6da",
   "metadata": {
    "id": "1560b6da"
   },
   "outputs": [],
   "source": [
    "df.drop('Unnamed: 0', axis=1,inplace=True)"
   ]
  },
  {
   "cell_type": "code",
   "execution_count": 8,
   "id": "04ed6bf0",
   "metadata": {
    "id": "04ed6bf0"
   },
   "outputs": [],
   "source": [
    "df[['hg/ha_yield']] = df[['hg/ha_yield']].astype(float)"
   ]
  },
  {
   "cell_type": "code",
   "execution_count": 9,
   "id": "7f0e5b59",
   "metadata": {
    "colab": {
     "base_uri": "https://localhost:8080/"
    },
    "id": "7f0e5b59",
    "outputId": "91200c60-858f-46b3-e958-f1bb849c01e3"
   },
   "outputs": [
    {
     "name": "stdout",
     "output_type": "stream",
     "text": [
      "<class 'pandas.core.frame.DataFrame'>\n",
      "RangeIndex: 28242 entries, 0 to 28241\n",
      "Data columns (total 7 columns):\n",
      " #   Column                         Non-Null Count  Dtype  \n",
      "---  ------                         --------------  -----  \n",
      " 0   Area                           28242 non-null  object \n",
      " 1   Item                           28242 non-null  object \n",
      " 2   Year                           28242 non-null  int64  \n",
      " 3   hg/ha_yield                    28242 non-null  float64\n",
      " 4   average_rain_fall_mm_per_year  28242 non-null  float64\n",
      " 5   pesticides_tonnes              28242 non-null  float64\n",
      " 6   avg_temp                       28242 non-null  float64\n",
      "dtypes: float64(4), int64(1), object(2)\n",
      "memory usage: 1.5+ MB\n"
     ]
    }
   ],
   "source": [
    "df.info()"
   ]
  },
  {
   "cell_type": "code",
   "execution_count": 10,
   "id": "413fa3d4",
   "metadata": {
    "id": "413fa3d4"
   },
   "outputs": [],
   "source": [
    "encoder = LabelEncoder()\n",
    "df[\"Area\"] = encoder.fit_transform(df[\"Area\"])\n",
    "df[\"Item\"] = encoder.fit_transform(df[\"Item\"])"
   ]
  },
  {
   "cell_type": "code",
   "execution_count": 11,
   "id": "ce960f37",
   "metadata": {
    "id": "ce960f37"
   },
   "outputs": [],
   "source": [
    "for i in df.columns:\n",
    "    df[i] = df[i].astype(float)"
   ]
  },
  {
   "cell_type": "code",
   "execution_count": 12,
   "id": "24fdc260",
   "metadata": {
    "id": "24fdc260"
   },
   "outputs": [],
   "source": [
    "scalar = MinMaxScaler()\n",
    "df[['average_rain_fall_mm_per_year','pesticides_tonnes','avg_temp','hg/ha_yield']] = scalar.fit_transform(df[['average_rain_fall_mm_per_year','pesticides_tonnes','avg_temp','hg/ha_yield']])"
   ]
  },
  {
   "cell_type": "code",
   "execution_count": 13,
   "id": "5c7a0946",
   "metadata": {
    "id": "5c7a0946"
   },
   "outputs": [],
   "source": [
    "X = df.drop('hg/ha_yield',axis = 1)\n",
    "y = df['hg/ha_yield']"
   ]
  },
  {
   "cell_type": "code",
   "execution_count": 14,
   "id": "8f6d5913",
   "metadata": {
    "colab": {
     "base_uri": "https://localhost:8080/"
    },
    "id": "8f6d5913",
    "outputId": "0e2cf5d8-1bfd-4003-b699-bf6e1b137e18"
   },
   "outputs": [
    {
     "name": "stdout",
     "output_type": "stream",
     "text": [
      "<class 'pandas.core.frame.DataFrame'>\n",
      "RangeIndex: 28242 entries, 0 to 28241\n",
      "Data columns (total 6 columns):\n",
      " #   Column                         Non-Null Count  Dtype  \n",
      "---  ------                         --------------  -----  \n",
      " 0   Area                           28242 non-null  float64\n",
      " 1   Item                           28242 non-null  float64\n",
      " 2   Year                           28242 non-null  float64\n",
      " 3   average_rain_fall_mm_per_year  28242 non-null  float64\n",
      " 4   pesticides_tonnes              28242 non-null  float64\n",
      " 5   avg_temp                       28242 non-null  float64\n",
      "dtypes: float64(6)\n",
      "memory usage: 1.3 MB\n",
      "<class 'pandas.core.series.Series'>\n",
      "RangeIndex: 28242 entries, 0 to 28241\n",
      "Series name: hg/ha_yield\n",
      "Non-Null Count  Dtype  \n",
      "--------------  -----  \n",
      "28242 non-null  float64\n",
      "dtypes: float64(1)\n",
      "memory usage: 220.8 KB\n",
      "None None\n"
     ]
    }
   ],
   "source": [
    "print(X.info(),y.info())"
   ]
  },
  {
   "cell_type": "code",
   "execution_count": 15,
   "id": "b750b635",
   "metadata": {
    "colab": {
     "base_uri": "https://localhost:8080/"
    },
    "id": "b750b635",
    "outputId": "fdf16485-ac0f-47d0-935e-82462e943cde"
   },
   "outputs": [
    {
     "name": "stdout",
     "output_type": "stream",
     "text": [
      "<class 'pandas.core.frame.DataFrame'>\n",
      "RangeIndex: 28242 entries, 0 to 28241\n",
      "Data columns (total 7 columns):\n",
      " #   Column                         Non-Null Count  Dtype  \n",
      "---  ------                         --------------  -----  \n",
      " 0   Area                           28242 non-null  float64\n",
      " 1   Item                           28242 non-null  float64\n",
      " 2   Year                           28242 non-null  float64\n",
      " 3   hg/ha_yield                    28242 non-null  float64\n",
      " 4   average_rain_fall_mm_per_year  28242 non-null  float64\n",
      " 5   pesticides_tonnes              28242 non-null  float64\n",
      " 6   avg_temp                       28242 non-null  float64\n",
      "dtypes: float64(7)\n",
      "memory usage: 1.5 MB\n"
     ]
    }
   ],
   "source": [
    "df.info()"
   ]
  },
  {
   "cell_type": "code",
   "execution_count": 16,
   "id": "848638b5",
   "metadata": {
    "id": "848638b5"
   },
   "outputs": [],
   "source": [
    "X_train,X_test,y_train,y_test = train_test_split(X,y,random_state=20,test_size=0.3)"
   ]
  },
  {
   "cell_type": "code",
   "execution_count": 17,
   "id": "010dfead",
   "metadata": {
    "id": "010dfead"
   },
   "outputs": [],
   "source": [
    "X_train = tf.convert_to_tensor(X_train)\n",
    "X_test = tf.convert_to_tensor(X_test)\n",
    "y_train =  tf.convert_to_tensor(y_train)\n",
    "y_test =  tf.convert_to_tensor(y_test)"
   ]
  },
  {
   "cell_type": "code",
   "execution_count": 18,
   "id": "24bd1ba2",
   "metadata": {
    "id": "24bd1ba2"
   },
   "outputs": [],
   "source": [
    "y_train = np.reshape(y_train,(-1,1))\n",
    "y_test = np.reshape(y_test,(-1,1))"
   ]
  },
  {
   "cell_type": "code",
   "execution_count": 19,
   "id": "a0dea855",
   "metadata": {
    "colab": {
     "base_uri": "https://localhost:8080/"
    },
    "id": "a0dea855",
    "outputId": "f41f2578-3a4a-4532-e6a3-e420da7d71c4"
   },
   "outputs": [
    {
     "name": "stdout",
     "output_type": "stream",
     "text": [
      "Model: \"sequential\"\n",
      "_________________________________________________________________\n",
      "Layer (type)                 Output Shape              Param #   \n",
      "=================================================================\n",
      "dense (Dense)                (None, 12)                84        \n",
      "_________________________________________________________________\n",
      "dense_1 (Dense)              (None, 1)                 13        \n",
      "=================================================================\n",
      "Total params: 97\n",
      "Trainable params: 97\n",
      "Non-trainable params: 0\n",
      "_________________________________________________________________\n"
     ]
    }
   ],
   "source": [
    "model = Sequential()\n",
    "model.add(Dense(12 , input_dim = 6, activation = 'relu'))\n",
    "model.add(Dense(1 , activation='linear'))\n",
    "model.summary()"
   ]
  },
  {
   "cell_type": "code",
   "execution_count": 20,
   "id": "b4af72e2",
   "metadata": {
    "id": "b4af72e2"
   },
   "outputs": [],
   "source": [
    "model.compile(loss='mse', metrics = ['mse','mae'])"
   ]
  },
  {
   "cell_type": "code",
   "execution_count": 21,
   "id": "07a87f05",
   "metadata": {
    "colab": {
     "base_uri": "https://localhost:8080/"
    },
    "id": "07a87f05",
    "outputId": "9c5e7c06-f43a-4dc9-caed-6fa33425dcf9"
   },
   "outputs": [
    {
     "name": "stdout",
     "output_type": "stream",
     "text": [
      "Epoch 1/20\n",
      "32/32 [==============================] - 6s 17ms/step - loss: 111693.8516 - mse: 111693.8516 - mae: 327.1834 - val_loss: 47318.1562 - val_mse: 47318.1562 - val_mae: 217.5229\n",
      "Epoch 2/20\n",
      "32/32 [==============================] - 0s 7ms/step - loss: 21147.9355 - mse: 21147.9355 - mae: 138.1858 - val_loss: 3749.4133 - val_mse: 3749.4133 - val_mae: 61.2068\n",
      "Epoch 3/20\n",
      "32/32 [==============================] - 0s 7ms/step - loss: 790.4382 - mse: 790.4382 - mae: 21.0933 - val_loss: 4.1823 - val_mse: 4.1823 - val_mae: 1.7372\n",
      "Epoch 4/20\n",
      "32/32 [==============================] - 0s 7ms/step - loss: 3.7388 - mse: 3.7388 - mae: 1.6108 - val_loss: 3.7293 - val_mse: 3.7293 - val_mae: 1.5702\n",
      "Epoch 5/20\n",
      "32/32 [==============================] - 0s 8ms/step - loss: 12.9864 - mse: 12.9864 - mae: 2.9515 - val_loss: 7.6191 - val_mse: 7.6191 - val_mae: 2.3065\n",
      "Epoch 6/20\n",
      "32/32 [==============================] - 0s 8ms/step - loss: 13.5627 - mse: 13.5627 - mae: 3.2497 - val_loss: 15.1338 - val_mse: 15.1338 - val_mae: 3.6606\n",
      "Epoch 7/20\n",
      "32/32 [==============================] - 0s 9ms/step - loss: 13.4422 - mse: 13.4422 - mae: 3.4620 - val_loss: 13.0810 - val_mse: 13.0810 - val_mae: 3.4387\n",
      "Epoch 8/20\n",
      "32/32 [==============================] - 0s 8ms/step - loss: 13.0237 - mse: 13.0237 - mae: 3.4622 - val_loss: 13.6944 - val_mse: 13.6944 - val_mae: 3.5750\n",
      "Epoch 9/20\n",
      "32/32 [==============================] - 0s 9ms/step - loss: 12.7837 - mse: 12.7837 - mae: 3.4675 - val_loss: 12.1705 - val_mse: 12.1705 - val_mae: 3.3907\n",
      "Epoch 10/20\n",
      "32/32 [==============================] - 0s 9ms/step - loss: 12.6340 - mse: 12.6340 - mae: 3.4751 - val_loss: 12.2558 - val_mse: 12.2558 - val_mae: 3.4295\n",
      "Epoch 11/20\n",
      "32/32 [==============================] - 0s 11ms/step - loss: 12.0410 - mse: 12.0410 - mae: 3.3894 - val_loss: 18.8729 - val_mse: 18.8729 - val_mae: 4.3008\n",
      "Epoch 12/20\n",
      "32/32 [==============================] - 0s 9ms/step - loss: 12.6058 - mse: 12.6058 - mae: 3.4139 - val_loss: 23.1932 - val_mse: 23.1932 - val_mae: 4.7853\n",
      "Epoch 13/20\n",
      "32/32 [==============================] - 0s 8ms/step - loss: 13.5267 - mse: 13.5267 - mae: 3.4947 - val_loss: 5.4734 - val_mse: 5.4734 - val_mae: 2.2909\n",
      "Epoch 14/20\n",
      "32/32 [==============================] - 0s 8ms/step - loss: 10.7225 - mse: 10.7225 - mae: 2.9932 - val_loss: 4.2572 - val_mse: 4.2572 - val_mae: 2.0203\n",
      "Epoch 15/20\n",
      "32/32 [==============================] - 0s 10ms/step - loss: 12.6020 - mse: 12.6020 - mae: 3.3074 - val_loss: 18.7273 - val_mse: 18.7273 - val_mae: 4.3105\n",
      "Epoch 16/20\n",
      "32/32 [==============================] - 0s 9ms/step - loss: 12.7176 - mse: 12.7176 - mae: 3.4935 - val_loss: 10.4915 - val_mse: 10.4915 - val_mae: 3.2204\n",
      "Epoch 17/20\n",
      "32/32 [==============================] - 0s 9ms/step - loss: 12.0957 - mse: 12.0957 - mae: 3.4590 - val_loss: 9.2552 - val_mse: 9.2552 - val_mae: 3.0247\n",
      "Epoch 18/20\n",
      "32/32 [==============================] - 0s 9ms/step - loss: 12.3290 - mse: 12.3290 - mae: 3.4740 - val_loss: 12.9797 - val_mse: 12.9797 - val_mae: 3.5894\n",
      "Epoch 19/20\n",
      "32/32 [==============================] - 0s 9ms/step - loss: 12.2384 - mse: 12.2384 - mae: 3.4662 - val_loss: 11.1739 - val_mse: 11.1739 - val_mae: 3.3297\n",
      "Epoch 20/20\n",
      "32/32 [==============================] - 0s 9ms/step - loss: 12.0112 - mse: 12.0112 - mae: 3.4538 - val_loss: 11.8751 - val_mse: 11.8751 - val_mae: 3.4346\n"
     ]
    }
   ],
   "source": [
    "history = model.fit(X_train,y_train,epochs = 20 ,batch_size = 500,validation_split = 0.2)"
   ]
  },
  {
   "cell_type": "markdown",
   "id": "PlHvSSNyCew3",
   "metadata": {
    "id": "PlHvSSNyCew3"
   },
   "source": [
    "# evaluating model performance"
   ]
  },
  {
   "cell_type": "code",
   "execution_count": 22,
   "id": "_YSHvSTuCecf",
   "metadata": {
    "colab": {
     "base_uri": "https://localhost:8080/"
    },
    "id": "_YSHvSTuCecf",
    "outputId": "657195ce-683b-4bcc-888b-a44443bbc685"
   },
   "outputs": [
    {
     "name": "stdout",
     "output_type": "stream",
     "text": [
      "265/265 [==============================] - 1s 5ms/step - loss: 11.8865 - mse: 11.8865 - mae: 3.4361\n"
     ]
    },
    {
     "data": {
      "text/plain": [
       "[11.886476516723633, 11.886476516723633, 3.4360833168029785]"
      ]
     },
     "execution_count": 22,
     "metadata": {},
     "output_type": "execute_result"
    }
   ],
   "source": [
    "model.evaluate(X_test,y_test)"
   ]
  },
  {
   "cell_type": "markdown",
   "id": "jRj2fjGwDFaw",
   "metadata": {
    "id": "jRj2fjGwDFaw"
   },
   "source": [
    "# Calculating RMSE"
   ]
  },
  {
   "cell_type": "code",
   "execution_count": 23,
   "id": "129f9f4c",
   "metadata": {
    "colab": {
     "base_uri": "https://localhost:8080/"
    },
    "id": "129f9f4c",
    "outputId": "6918f9b2-35a9-4ea8-fd80-a6164197b951"
   },
   "outputs": [
    {
     "name": "stdout",
     "output_type": "stream",
     "text": [
      "RMSE for train data:  3.446620460362634\n",
      "RMSE for test data:  3.4476776995072846\n"
     ]
    }
   ],
   "source": [
    "pred_train = model.predict(X_train)\n",
    "print('RMSE for train data: ',np.sqrt(mean_squared_error(y_train,pred_train)))\n",
    "pred_test = model.predict(X_test)\n",
    "print('RMSE for test data: ',np.sqrt(mean_squared_error(y_test,pred_test)))"
   ]
  },
  {
   "cell_type": "markdown",
   "id": "hPHPJPrcDu4X",
   "metadata": {
    "id": "hPHPJPrcDu4X"
   },
   "source": [
    "# model is not overfitted"
   ]
  },
  {
   "cell_type": "code",
   "execution_count": 24,
   "id": "2b27bf0c",
   "metadata": {
    "colab": {
     "base_uri": "https://localhost:8080/",
     "height": 490
    },
    "id": "2b27bf0c",
    "outputId": "1af86eab-9485-486b-841f-8f69343eba51"
   },
   "outputs": [
    {
     "name": "stdout",
     "output_type": "stream",
     "text": [
      "dict_keys(['loss', 'mse', 'mae', 'val_loss', 'val_mse', 'val_mae'])\n"
     ]
    },
    {
     "data": {
      "image/png": "[encoded data removed]",
      "text/plain": [
       "<Figure size 640x480 with 1 Axes>"
      ]
     },
     "metadata": {},
     "output_type": "display_data"
    }
   ],
   "source": [
    "print(history.history.keys())\n",
    "# \"Loss\"\n",
    "plt.plot(history.history['loss'])\n",
    "plt.plot(history.history['val_loss'])\n",
    "plt.title('model loss')\n",
    "plt.ylabel('loss')\n",
    "plt.xlabel('epoch')\n",
    "plt.legend(['train', 'validation'], loc='upper right')\n",
    "plt.show()"
   ]
  },
  {
   "cell_type": "markdown",
   "id": "3VQ2UArREQQf",
   "metadata": {
    "id": "3VQ2UArREQQf"
   },
   "source": [
    "# increasing the number of hidden layer"
   ]
  },
  {
   "cell_type": "code",
   "execution_count": 25,
   "id": "pHTnUipPD9JA",
   "metadata": {
    "colab": {
     "base_uri": "https://localhost:8080/",
     "height": 1000
    },
    "id": "pHTnUipPD9JA",
    "outputId": "f3faf35b-253f-48f1-cab6-32e549a04dc5"
   },
   "outputs": [
    {
     "name": "stdout",
     "output_type": "stream",
     "text": [
      "Model: \"sequential_1\"\n",
      "_________________________________________________________________\n",
      "Layer (type)                 Output Shape              Param #   \n",
      "=================================================================\n",
      "dense_2 (Dense)              (None, 12)                84        \n",
      "_________________________________________________________________\n",
      "dense_3 (Dense)              (None, 12)                156       \n",
      "_________________________________________________________________\n",
      "dense_4 (Dense)              (None, 1)                 13        \n",
      "=================================================================\n",
      "Total params: 253\n",
      "Trainable params: 253\n",
      "Non-trainable params: 0\n",
      "_________________________________________________________________\n",
      "None\n",
      "Epoch 1/20\n",
      "32/32 [==============================] - 2s 19ms/step - loss: 404258.5938 - mse: 404258.5938 - mae: 616.7198 - val_loss: 140170.9844 - val_mse: 140170.9844 - val_mae: 374.2861\n",
      "Epoch 2/20\n",
      "32/32 [==============================] - 0s 11ms/step - loss: 52396.5391 - mse: 52396.5430 - mae: 209.7785 - val_loss: 4009.5078 - val_mse: 4009.5078 - val_mae: 62.7758\n",
      "Epoch 3/20\n",
      "32/32 [==============================] - 0s 11ms/step - loss: 631.8125 - mse: 631.8125 - mae: 17.4205 - val_loss: 33.8565 - val_mse: 33.8565 - val_mae: 4.8676\n",
      "Epoch 4/20\n",
      "32/32 [==============================] - 0s 11ms/step - loss: 13.3049 - mse: 13.3049 - mae: 2.7277 - val_loss: 2.5742 - val_mse: 2.5742 - val_mae: 1.2627\n",
      "Epoch 5/20\n",
      "32/32 [==============================] - 0s 10ms/step - loss: 51.4200 - mse: 51.4200 - mae: 5.3375 - val_loss: 16.5665 - val_mse: 16.5665 - val_mae: 3.8559\n",
      "Epoch 6/20\n",
      "32/32 [==============================] - 0s 11ms/step - loss: 49.9815 - mse: 49.9815 - mae: 6.7902 - val_loss: 45.6520 - val_mse: 45.6520 - val_mae: 6.6259\n",
      "Epoch 7/20\n",
      "32/32 [==============================] - 0s 11ms/step - loss: 51.2898 - mse: 51.2898 - mae: 7.0084 - val_loss: 49.7020 - val_mse: 49.7020 - val_mae: 6.9488\n",
      "Epoch 8/20\n",
      "32/32 [==============================] - 0s 11ms/step - loss: 50.3020 - mse: 50.3020 - mae: 6.9773 - val_loss: 45.0344 - val_mse: 45.0344 - val_mae: 6.6095\n",
      "Epoch 9/20\n",
      "32/32 [==============================] - 0s 10ms/step - loss: 49.6731 - mse: 49.6731 - mae: 6.9348 - val_loss: 48.2308 - val_mse: 48.2308 - val_mae: 6.8504\n",
      "Epoch 10/20\n",
      "32/32 [==============================] - 0s 10ms/step - loss: 48.1691 - mse: 48.1691 - mae: 6.8259 - val_loss: 45.5654 - val_mse: 45.5654 - val_mae: 6.6631\n",
      "Epoch 11/20\n",
      "32/32 [==============================] - 0s 10ms/step - loss: 49.6422 - mse: 49.6422 - mae: 6.9462 - val_loss: 47.7088 - val_mse: 47.7088 - val_mae: 6.8255\n",
      "Epoch 12/20\n",
      "32/32 [==============================] - 0s 11ms/step - loss: 47.1966 - mse: 47.1966 - mae: 6.7328 - val_loss: 39.3495 - val_mse: 39.3495 - val_mae: 6.2065\n",
      "Epoch 13/20\n",
      "32/32 [==============================] - 0s 10ms/step - loss: 46.9909 - mse: 46.9909 - mae: 6.7694 - val_loss: 49.2867 - val_mse: 49.2867 - val_mae: 6.9589\n",
      "Epoch 14/20\n",
      "32/32 [==============================] - 0s 11ms/step - loss: 47.1094 - mse: 47.1094 - mae: 6.7328 - val_loss: 43.9796 - val_mse: 43.9796 - val_mae: 6.5683\n",
      "Epoch 15/20\n",
      "32/32 [==============================] - 0s 11ms/step - loss: 44.3953 - mse: 44.3953 - mae: 6.5711 - val_loss: 44.5398 - val_mse: 44.5398 - val_mae: 6.5800\n",
      "Epoch 16/20\n",
      "32/32 [==============================] - 0s 12ms/step - loss: 44.7963 - mse: 44.7963 - mae: 6.5744 - val_loss: 45.2247 - val_mse: 45.2247 - val_mae: 6.6499\n",
      "Epoch 17/20\n",
      "32/32 [==============================] - 0s 11ms/step - loss: 43.1448 - mse: 43.1448 - mae: 6.4717 - val_loss: 29.2999 - val_mse: 29.2999 - val_mae: 5.3345\n",
      "Epoch 18/20\n",
      "32/32 [==============================] - 0s 11ms/step - loss: 40.1100 - mse: 40.1100 - mae: 6.1768 - val_loss: 62.5053 - val_mse: 62.5053 - val_mae: 7.8578\n",
      "Epoch 19/20\n",
      "32/32 [==============================] - 0s 10ms/step - loss: 42.3954 - mse: 42.3954 - mae: 6.3302 - val_loss: 43.9051 - val_mse: 43.9051 - val_mae: 6.5374\n",
      "Epoch 20/20\n",
      "32/32 [==============================] - 0s 13ms/step - loss: 40.8328 - mse: 40.8328 - mae: 6.3123 - val_loss: 44.4873 - val_mse: 44.4873 - val_mae: 6.5910\n",
      "265/265 [==============================] - 1s 5ms/step - loss: 42.9386 - mse: 42.9386 - mae: 6.4756\n",
      "[42.93864822387695, 42.93864822387695, 6.475635051727295]\n",
      "RMSE for train data:  6.565435450767703\n",
      "RMSE for test data:  6.55275909847169\n",
      "dict_keys(['loss', 'mse', 'mae', 'val_loss', 'val_mse', 'val_mae'])\n"
     ]
    },
    {
     "data": {
      "image/png": "[encoded data removed]",
      "text/plain": [
       "<Figure size 640x480 with 1 Axes>"
      ]
     },
     "metadata": {},
     "output_type": "display_data"
    }
   ],
   "source": [
    "model = Sequential()\n",
    "model.add(Dense(12 , input_dim = 6, activation = 'relu'))\n",
    "model.add(Dense(12 , activation = 'relu'))\n",
    "model.add(Dense(1 , activation='linear'))\n",
    "print(model.summary())\n",
    "model.compile(loss='mse', metrics = ['mse','mae'])\n",
    "history = model.fit(X_train,y_train,epochs = 20 ,batch_size = 500,validation_split = 0.2)\n",
    "print(model.evaluate(X_test,y_test))\n",
    "pred_train = model.predict(X_train)\n",
    "print('RMSE for train data: ',np.sqrt(mean_squared_error(y_train,pred_train)))\n",
    "pred_test = model.predict(X_test)\n",
    "print('RMSE for test data: ',np.sqrt(mean_squared_error(y_test,pred_test)))\n",
    "print(history.history.keys())\n",
    "# \"Loss\"\n",
    "plt.plot(history.history['loss'])\n",
    "plt.plot(history.history['val_loss'])\n",
    "plt.title('model loss')\n",
    "plt.ylabel('loss')\n",
    "plt.xlabel('epoch')\n",
    "plt.legend(['train', 'validation'], loc='upper right')\n",
    "plt.show()"
   ]
  },
  {
   "cell_type": "markdown",
   "id": "8Fzq4aYaGDjH",
   "metadata": {
    "id": "8Fzq4aYaGDjH"
   },
   "source": [
    "#adding layer and increasing epochs"
   ]
  },
  {
   "cell_type": "code",
   "execution_count": 26,
   "id": "nYXOUp-tGC4f",
   "metadata": {
    "colab": {
     "base_uri": "https://localhost:8080/"
    },
    "id": "nYXOUp-tGC4f",
    "outputId": "b38b3d0d-f9f4-491e-b603-2fcd8524dc13"
   },
   "outputs": [
    {
     "name": "stdout",
     "output_type": "stream",
     "text": [
      "Model: \"sequential_2\"\n",
      "_________________________________________________________________\n",
      "Layer (type)                 Output Shape              Param #   \n",
      "=================================================================\n",
      "dense_5 (Dense)              (None, 12)                84        \n",
      "_________________________________________________________________\n",
      "dense_6 (Dense)              (None, 12)                156       \n",
      "_________________________________________________________________\n",
      "dense_7 (Dense)              (None, 1)                 13        \n",
      "=================================================================\n",
      "Total params: 253\n",
      "Trainable params: 253\n",
      "Non-trainable params: 0\n",
      "_________________________________________________________________\n",
      "None\n",
      "Epoch 1/30\n",
      "159/159 [==============================] - 3s 10ms/step - loss: 61399.0820 - mse: 61399.0781 - mae: 130.5582 - val_loss: 30.3169 - val_mse: 30.3169 - val_mae: 5.2725\n",
      "Epoch 2/30\n",
      "159/159 [==============================] - 1s 9ms/step - loss: 40.5982 - mse: 40.5982 - mae: 6.2275 - val_loss: 36.0888 - val_mse: 36.0888 - val_mae: 5.9543\n",
      "Epoch 3/30\n",
      "159/159 [==============================] - 2s 10ms/step - loss: 36.0810 - mse: 36.0810 - mae: 5.9511 - val_loss: 51.8693 - val_mse: 51.8693 - val_mae: 7.1870\n",
      "Epoch 4/30\n",
      "159/159 [==============================] - 1s 8ms/step - loss: 32.9504 - mse: 32.9504 - mae: 5.5619 - val_loss: 24.6765 - val_mse: 24.6765 - val_mae: 4.9593\n",
      "Epoch 5/30\n",
      "159/159 [==============================] - 1s 9ms/step - loss: 30.5139 - mse: 30.5139 - mae: 5.4953 - val_loss: 27.6432 - val_mse: 27.6432 - val_mae: 5.2504\n",
      "Epoch 6/30\n",
      "159/159 [==============================] - 1s 9ms/step - loss: 27.5214 - mse: 27.5214 - mae: 5.1335 - val_loss: 24.8253 - val_mse: 24.8253 - val_mae: 4.9757\n",
      "Epoch 7/30\n",
      "159/159 [==============================] - 1s 9ms/step - loss: 25.0566 - mse: 25.0566 - mae: 4.8998 - val_loss: 22.0467 - val_mse: 22.0467 - val_mae: 4.6884\n",
      "Epoch 8/30\n",
      "159/159 [==============================] - 1s 9ms/step - loss: 22.6549 - mse: 22.6549 - mae: 4.5995 - val_loss: 12.7044 - val_mse: 12.7044 - val_mae: 3.5554\n",
      "Epoch 9/30\n",
      "159/159 [==============================] - 1s 8ms/step - loss: 20.1618 - mse: 20.1618 - mae: 4.3870 - val_loss: 24.5684 - val_mse: 24.5684 - val_mae: 4.9504\n",
      "Epoch 10/30\n",
      "159/159 [==============================] - 1s 9ms/step - loss: 18.5569 - mse: 18.5569 - mae: 4.2117 - val_loss: 22.9233 - val_mse: 22.9233 - val_mae: 4.7793\n",
      "Epoch 11/30\n",
      "159/159 [==============================] - 1s 8ms/step - loss: 16.8300 - mse: 16.8300 - mae: 4.0766 - val_loss: 9.1953 - val_mse: 9.1953 - val_mae: 3.0209\n",
      "Epoch 12/30\n",
      "159/159 [==============================] - 1s 8ms/step - loss: 16.0031 - mse: 16.0031 - mae: 3.9641 - val_loss: 8.4460 - val_mse: 8.4460 - val_mae: 2.8941\n",
      "Epoch 13/30\n",
      "159/159 [==============================] - 1s 9ms/step - loss: 15.0306 - mse: 15.0306 - mae: 3.8138 - val_loss: 9.5060 - val_mse: 9.5060 - val_mae: 3.0748\n",
      "Epoch 14/30\n",
      "159/159 [==============================] - 1s 9ms/step - loss: 13.7601 - mse: 13.7601 - mae: 3.6826 - val_loss: 14.4228 - val_mse: 14.4228 - val_mae: 3.7885\n",
      "Epoch 15/30\n",
      "159/159 [==============================] - 1s 8ms/step - loss: 12.5276 - mse: 12.5276 - mae: 3.4896 - val_loss: 9.6099 - val_mse: 9.6099 - val_mae: 3.0918\n",
      "Epoch 16/30\n",
      "159/159 [==============================] - 2s 11ms/step - loss: 11.3242 - mse: 11.3242 - mae: 3.3171 - val_loss: 5.6899 - val_mse: 5.6899 - val_mae: 2.3728\n",
      "Epoch 17/30\n",
      "159/159 [==============================] - 2s 14ms/step - loss: 10.4355 - mse: 10.4355 - mae: 3.1992 - val_loss: 11.8622 - val_mse: 11.8622 - val_mae: 3.4378\n",
      "Epoch 18/30\n",
      "159/159 [==============================] - 2s 13ms/step - loss: 9.5950 - mse: 9.5950 - mae: 3.0642 - val_loss: 8.7003 - val_mse: 8.7003 - val_mae: 2.9400\n",
      "Epoch 19/30\n",
      "159/159 [==============================] - 1s 9ms/step - loss: 9.2988 - mse: 9.2988 - mae: 3.0231 - val_loss: 9.8966 - val_mse: 9.8966 - val_mae: 3.1283\n",
      "Epoch 20/30\n",
      "159/159 [==============================] - 2s 10ms/step - loss: 9.1181 - mse: 9.1181 - mae: 2.9799 - val_loss: 9.7907 - val_mse: 9.7907 - val_mae: 3.1199\n",
      "Epoch 21/30\n",
      "159/159 [==============================] - 1s 8ms/step - loss: 8.6244 - mse: 8.6244 - mae: 2.8859 - val_loss: 8.3365 - val_mse: 8.3365 - val_mae: 2.8767\n",
      "Epoch 22/30\n",
      "159/159 [==============================] - 2s 10ms/step - loss: 8.3537 - mse: 8.3537 - mae: 2.8529 - val_loss: 7.4972 - val_mse: 7.4972 - val_mae: 2.7275\n",
      "Epoch 23/30\n",
      "159/159 [==============================] - 1s 9ms/step - loss: 7.8503 - mse: 7.8503 - mae: 2.7587 - val_loss: 7.4855 - val_mse: 7.4855 - val_mae: 2.7243\n",
      "Epoch 24/30\n",
      "159/159 [==============================] - 1s 9ms/step - loss: 7.5525 - mse: 7.5525 - mae: 2.6989 - val_loss: 2.1697 - val_mse: 2.1697 - val_mae: 1.3668\n",
      "Epoch 25/30\n",
      "159/159 [==============================] - 1s 9ms/step - loss: 6.7599 - mse: 6.7599 - mae: 2.4820 - val_loss: 6.5089 - val_mse: 6.5089 - val_mae: 2.4602\n",
      "Epoch 26/30\n",
      "159/159 [==============================] - 1s 8ms/step - loss: 6.4696 - mse: 6.4696 - mae: 2.4492 - val_loss: 2.8058 - val_mse: 2.8058 - val_mae: 1.6220\n",
      "Epoch 27/30\n",
      "159/159 [==============================] - 2s 10ms/step - loss: 6.1822 - mse: 6.1822 - mae: 2.3859 - val_loss: 3.5020 - val_mse: 3.5020 - val_mae: 1.7771\n",
      "Epoch 28/30\n",
      "159/159 [==============================] - 1s 9ms/step - loss: 5.7243 - mse: 5.7243 - mae: 2.2817 - val_loss: 5.0780 - val_mse: 5.0780 - val_mae: 2.2050\n",
      "Epoch 29/30\n",
      "159/159 [==============================] - 1s 9ms/step - loss: 5.4226 - mse: 5.4226 - mae: 2.2177 - val_loss: 5.2217 - val_mse: 5.2217 - val_mae: 2.1597\n",
      "Epoch 30/30\n",
      "159/159 [==============================] - 2s 10ms/step - loss: 5.0093 - mse: 5.0093 - mae: 2.0764 - val_loss: 6.9938 - val_mse: 6.9938 - val_mae: 2.5970\n"
     ]
    }
   ],
   "source": [
    "model = Sequential()\n",
    "model.add(Dense(12 , input_dim = 6, activation = 'relu'))\n",
    "model.add(Dense(12 , activation = 'relu'))\n",
    "model.add(Dense(1 , activation='linear'))\n",
    "print(model.summary())\n",
    "model.compile(loss='mse', metrics = ['mse','mae'])\n",
    "history = model.fit(X_train,y_train,epochs = 30 ,batch_size = 100,validation_split = 0.2)\n",
    "\n"
   ]
  },
  {
   "cell_type": "code",
   "execution_count": 27,
   "id": "PRC03DjxIeoH",
   "metadata": {
    "colab": {
     "base_uri": "https://localhost:8080/",
     "height": 636
    },
    "id": "PRC03DjxIeoH",
    "outputId": "03e355ef-f416-4b88-e1c1-51304f5f2a51"
   },
   "outputs": [
    {
     "name": "stdout",
     "output_type": "stream",
     "text": [
      "\n",
      "265/265 [==============================] - 2s 6ms/step - loss: 6.9701 - mse: 6.9701 - mae: 2.5933\n",
      "[6.970058441162109, 6.970058441162109, 2.5933220386505127]\n",
      "\n",
      "RMSE for train data:  2.6552334628462346\n",
      "\n",
      "RMSE for test data:  2.6400878925402513\n",
      "\n",
      "dict_keys(['loss', 'mse', 'mae', 'val_loss', 'val_mse', 'val_mae'])\n"
     ]
    },
    {
     "data": {
      "image/png": "[encoded data removed]",
      "text/plain": [
       "<Figure size 640x480 with 1 Axes>"
      ]
     },
     "metadata": {},
     "output_type": "display_data"
    }
   ],
   "source": [
    "print()\n",
    "print(model.evaluate(X_test,y_test))\n",
    "pred_train = model.predict(X_train)\n",
    "print()\n",
    "print('RMSE for train data: ',np.sqrt(mean_squared_error(y_train,pred_train)))\n",
    "pred_test = model.predict(X_test)\n",
    "print()\n",
    "print('RMSE for test data: ',np.sqrt(mean_squared_error(y_test,pred_test)))\n",
    "print()\n",
    "print(history.history.keys())\n",
    "# \"Loss\"\n",
    "plt.plot(history.history['loss'])\n",
    "plt.plot(history.history['val_loss'])\n",
    "plt.title('model loss')\n",
    "plt.ylabel('loss')\n",
    "plt.xlabel('epoch')\n",
    "plt.legend(['train', 'validation'], loc='upper right')\n",
    "plt.show()\n"
   ]
  },
  {
   "cell_type": "code",
   "execution_count": 28,
   "id": "cN04Fvj_LBN3",
   "metadata": {
    "colab": {
     "base_uri": "https://localhost:8080/"
    },
    "id": "cN04Fvj_LBN3",
    "outputId": "22959b8a-0758-452c-92f8-a9363b1705f2"
   },
   "outputs": [
    {
     "name": "stderr",
     "output_type": "stream",
     "text": [
      "C:\\Users\\YASH KHADTARE\\AppData\\Local\\Temp\\ipykernel_14728\\2265090091.py:2: DataConversionWarning: A column-vector y was passed when a 1d array was expected. Please change the shape of y to (n_samples,), for example using ravel().\n",
      "  model_rf = RF.fit(X_train,y_train)\n"
     ]
    },
    {
     "name": "stdout",
     "output_type": "stream",
     "text": [
      "Training accuracy = 0.9979041476838795\n",
      "Testing accuracy = 0.9860677136525431\n",
      "\n",
      "\n",
      "RMSE for train data:  0.007745375301558013\n",
      "\n",
      "RMSE for test data:  0.020072875157974273\n"
     ]
    }
   ],
   "source": [
    "RF = RandomForestRegressor()\n",
    "model_rf = RF.fit(X_train,y_train)\n",
    "\n",
    "\n",
    "print('Training accuracy =',model_rf.score(X_train,y_train))\n",
    "print('Testing accuracy =',model_rf.score(X_test,y_test))\n",
    "print()\n",
    "\n",
    "\n",
    "pred_train = model_rf.predict(X_train)\n",
    "print()\n",
    "print('RMSE for train data: ',np.sqrt(mean_squared_error(y_train,pred_train)))\n",
    "pred_test = model_rf.predict(X_test)\n",
    "print()\n",
    "print('RMSE for test data: ',np.sqrt(mean_squared_error(y_test,pred_test)))"
   ]
  },
  {
   "cell_type": "code",
   "execution_count": null,
   "id": "sSPdmhCuqyPE",
   "metadata": {
    "id": "sSPdmhCuqyPE"
   },
   "outputs": [],
   "source": []
  },
  {
   "cell_type": "code",
   "execution_count": null,
   "id": "NA96r6GnrIBh",
   "metadata": {
    "id": "NA96r6GnrIBh"
   },
   "outputs": [],
   "source": []
  },
  {
   "cell_type": "code",
   "execution_count": null,
   "id": "9ud3_WBCrQhR",
   "metadata": {
    "id": "9ud3_WBCrQhR"
   },
   "outputs": [],
   "source": []
  }
 ],
 "metadata": {
  "accelerator": "GPU",
  "colab": {
   "gpuType": "T4",
   "provenance": []
  },
  "kernelspec": {
   "display_name": "Python 3 (ipykernel)",
   "language": "python",
   "name": "python3"
  },
  "language_info": {
   "codemirror_mode": {
    "name": "ipython",
    "version": 3
   },
   "file_extension": ".py",
   "mimetype": "text/x-python",
   "name": "python",
   "nbconvert_exporter": "python",
   "pygments_lexer": "ipython3",
   "version": "3.10.12"
  }
 },
 "nbformat": 4,
 "nbformat_minor": 5
}
